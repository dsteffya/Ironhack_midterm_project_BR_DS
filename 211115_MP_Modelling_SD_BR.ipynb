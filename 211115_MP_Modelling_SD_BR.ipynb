{
 "cells": [
  {
   "cell_type": "code",
   "execution_count": null,
   "id": "38ff101b",
   "metadata": {},
   "outputs": [],
   "source": [
    "import matplotlib.pyplot as plt\n",
    "import seaborn as sns\n",
    "%matplotlib inline\n",
    "import pandas as pd\n",
    "import numpy as np\n",
    "from sklearn.preprocessing import StandardScaler\n",
    "from sklearn.preprocessing import OneHotEncoder\n",
    "from sklearn.preprocessing import QuantileTransformer\n",
    "from sklearn.linear_model import LinearRegression\n",
    "from sklearn.model_selection import train_test_split\n",
    "from sklearn.preprocessing import PowerTransformer\n",
    "from sklearn.metrics import r2_score\n",
    "import statsmodels.api as sm\n",
    "from sklearn.metrics import mean_squared_error as mse\n",
    "from sklearn.metrics import mean_absolute_error as mae\n",
    "from scipy.stats import boxcox\n",
    "pd.options.display.max_rows = 50\n",
    "pd.options.display.max_columns = 999\n",
    "import warnings\n",
    "warnings.filterwarnings('ignore')"
   ]
  },
  {
   "cell_type": "code",
   "execution_count": null,
   "id": "d454c372",
   "metadata": {},
   "outputs": [],
   "source": [
    "def load_original_data():\n",
    "    return pd.read_excel(\"Data/Data_MidTerm_Project_Real_State_Regression.xls\" )"
   ]
  },
  {
   "cell_type": "code",
   "execution_count": null,
   "id": "c3da0228",
   "metadata": {},
   "outputs": [],
   "source": [
    "def clean_data(df):\n",
    "    df=df.dropna()\n",
    "    ## droping columns\n",
    "    df=df.drop(columns=['id','view','lat','long','sqft_above', 'sqft_basement', 'sqft_living15', 'sqft_lot15'])\n",
    "    ## removing duplicates\n",
    "    df=df.drop_duplicates()\n",
    "    #date changed to dd/mm/year format\n",
    "    df['date'] = df['date'].dt.strftime('%Y')\n",
    "    #changing price values to currency format\n",
    "    df['price'] = df['price'].apply(lambda x: \"{:.2f}\".format((x/1000)))\n",
    "    df['price'] = df['price'].astype(float)\n",
    "    return df"
   ]
  },
  {
   "cell_type": "code",
   "execution_count": null,
   "id": "863e90d7",
   "metadata": {},
   "outputs": [],
   "source": [
    "re_df=load_original_data()\n",
    "re_df=clean_data(re_df)"
   ]
  },
  {
   "cell_type": "code",
   "execution_count": null,
   "id": "9925defd",
   "metadata": {},
   "outputs": [],
   "source": [
    "re_df.columns"
   ]
  },
  {
   "cell_type": "code",
   "execution_count": null,
   "id": "e08ce858",
   "metadata": {},
   "outputs": [],
   "source": [
    "re_df"
   ]
  },
  {
   "cell_type": "markdown",
   "id": "7325372d",
   "metadata": {},
   "source": [
    "### Plotting\n",
    "\n",
    "Plot the distribution of price vs. number of bedrooms, price vs. number of bathrooms, price vs. condition, price vs. floors, price vs. grade, price vs. view, and price vs. waterfront.\n",
    "\n",
    "State your observation for each one of those graphs. \n",
    "Do you see any trends in prices vs the rest of those variables individually? This can also be used for EDA to identify some data cleaning operations that you might need to perform further."
   ]
  },
  {
   "cell_type": "code",
   "execution_count": null,
   "id": "523b1222",
   "metadata": {},
   "outputs": [],
   "source": [
    "re_df[['bedrooms','bathrooms','floors','waterfront','condition','grade','yr_built','yr_renovated','zipcode']] = re_df[['bedrooms','bathrooms','floors','waterfront','condition','grade','yr_built','yr_renovated','zipcode']].astype(str)\n",
    "# converting categorical columns"
   ]
  },
  {
   "cell_type": "code",
   "execution_count": null,
   "id": "a59897a9",
   "metadata": {},
   "outputs": [],
   "source": [
    "for c in re_df.select_dtypes(object):\n",
    "    plt.figure(figsize=(20,10))\n",
    "    sns.scatterplot(y='price',x=re_df[c],data=re_df)\n",
    "    plt.show()"
   ]
  },
  {
   "cell_type": "code",
   "execution_count": null,
   "id": "e6c6338b",
   "metadata": {},
   "outputs": [],
   "source": [
    "re_df.info()"
   ]
  },
  {
   "cell_type": "code",
   "execution_count": null,
   "id": "1ddf7991",
   "metadata": {},
   "outputs": [],
   "source": [
    "for c in re_df.select_dtypes(int):\n",
    "    plt.figure(figsize=(20,10))\n",
    "    sns.scatterplot(y='price',x=re_df[c],data=re_df)\n",
    "    plt.show()"
   ]
  },
  {
   "cell_type": "markdown",
   "id": "c7174d6e",
   "metadata": {},
   "source": [
    "# removing outliers"
   ]
  },
  {
   "cell_type": "code",
   "execution_count": null,
   "id": "45ce01b8",
   "metadata": {},
   "outputs": [],
   "source": [
    "#sns.boxplot(re_df.sqft_living)"
   ]
  },
  {
   "cell_type": "code",
   "execution_count": null,
   "id": "ea2a5237",
   "metadata": {},
   "outputs": [],
   "source": [
    "#sns.boxplot(re_df.sqft_lot)"
   ]
  },
  {
   "cell_type": "markdown",
   "id": "8f15d3c4",
   "metadata": {},
   "source": [
    "Q1 = re_df.sqft_living.quantile(0.25)\n",
    "Q3 = re_df.sqft_living.quantile(0.75)\n",
    "IQR = Q3 - Q1\n",
    "filter = (re_df['sqft_living'] >= Q1 - 1.5 * IQR) & (re_df['sqft_living'] <= Q3 + 1.5 *IQR)\n",
    "re_df=re_df.loc[filter]"
   ]
  },
  {
   "cell_type": "markdown",
   "id": "8e625401",
   "metadata": {},
   "source": [
    "Q1 = re_df.sqft_lot.quantile(0.25)\n",
    "Q3 = re_df.sqft_lot.quantile(0.75)\n",
    "IQR = Q3 - Q1\n",
    "filter = (re_df['sqft_lot'] >= Q1 - 1.5 * IQR) & (re_df['sqft_lot'] <= Q3 + 1.5 *IQR)\n",
    "re_df=re_df.loc[filter]"
   ]
  },
  {
   "cell_type": "code",
   "execution_count": null,
   "id": "82f073d0",
   "metadata": {},
   "outputs": [],
   "source": [
    "#re_df.sqft_living.hist()"
   ]
  },
  {
   "cell_type": "code",
   "execution_count": null,
   "id": "07c3e197",
   "metadata": {},
   "outputs": [],
   "source": [
    "#re_df.sqft_lot.hist()"
   ]
  },
  {
   "cell_type": "code",
   "execution_count": null,
   "id": "e8e83503",
   "metadata": {},
   "outputs": [],
   "source": [
    "sns.pairplot(re_df)\n",
    "plt.show()"
   ]
  },
  {
   "cell_type": "code",
   "execution_count": null,
   "id": "3a3f160d",
   "metadata": {},
   "outputs": [],
   "source": [
    "#data transformation\n",
    "sqft_living_transformed,lam=boxcox(re_df['sqft_living'])\n",
    "sns.histplot(sqft_living_transformed)"
   ]
  },
  {
   "cell_type": "markdown",
   "id": "5f100fb0",
   "metadata": {},
   "source": [
    "sqft_lot_transformed,lam=boxcox(re_df['sqft_lot'])\n",
    "sns.histplot(sqft_lot_transformed)"
   ]
  },
  {
   "cell_type": "code",
   "execution_count": null,
   "id": "27312fef",
   "metadata": {},
   "outputs": [],
   "source": [
    "sns.distplot((re_df['sqft_living']), bins=20)"
   ]
  },
  {
   "cell_type": "code",
   "execution_count": null,
   "id": "6db0aea1",
   "metadata": {},
   "outputs": [],
   "source": [
    "sns.distplot((re_df['sqft_lot']), bins=20)"
   ]
  },
  {
   "cell_type": "code",
   "execution_count": null,
   "id": "d440bfbf",
   "metadata": {},
   "outputs": [],
   "source": [
    "#checking correlation\n",
    "numericals_features=re_df._get_numeric_data()\n",
    "correlations = numericals_features.corr()\n",
    "correlations"
   ]
  },
  {
   "cell_type": "code",
   "execution_count": null,
   "id": "acdc3289",
   "metadata": {},
   "outputs": [],
   "source": [
    "cmap = sns.cm.rocket_r  ## for reversing the colors\n",
    "mask=np.zeros_like(numericals_features.corr())\n",
    "mask[np.triu_indices_from(mask)]=True\n",
    "fig, ax=plt.subplots(figsize=(10, 8))\n",
    "ax=sns.heatmap(numericals_features.corr(), mask=mask, annot=True,cmap=cmap)\n",
    "plt.show()"
   ]
  },
  {
   "cell_type": "code",
   "execution_count": null,
   "id": "bace967d",
   "metadata": {},
   "outputs": [],
   "source": [
    "#XY Split\n",
    "x=re_df.drop('price', axis=1)\n",
    "y=re_df.price"
   ]
  },
  {
   "cell_type": "code",
   "execution_count": null,
   "id": "5dbedbee",
   "metadata": {},
   "outputs": [],
   "source": [
    "x"
   ]
  },
  {
   "cell_type": "code",
   "execution_count": null,
   "id": "d235414a",
   "metadata": {},
   "outputs": [],
   "source": [
    "numericals_features =x._get_numeric_data()\n",
    "# numericals =data.select_dtypes(np.number)\n",
    "numericals_features"
   ]
  },
  {
   "cell_type": "code",
   "execution_count": null,
   "id": "c14ba635",
   "metadata": {},
   "outputs": [],
   "source": [
    "numericals_features.describe()"
   ]
  },
  {
   "cell_type": "code",
   "execution_count": null,
   "id": "ba65e9bb",
   "metadata": {},
   "outputs": [],
   "source": [
    "#Get Categorical data\n",
    "\n",
    "categoricals_features = x.select_dtypes(object)\n",
    "categoricals_features"
   ]
  },
  {
   "cell_type": "markdown",
   "id": "22398394",
   "metadata": {},
   "source": [
    "## Categorical Variables Transformation"
   ]
  },
  {
   "cell_type": "code",
   "execution_count": null,
   "id": "5ce1fac6",
   "metadata": {},
   "outputs": [],
   "source": [
    "# get dummies pandas\n",
    "categoricals_features=pd.get_dummies(categoricals_features)\n",
    "categoricals_features"
   ]
  },
  {
   "cell_type": "code",
   "execution_count": null,
   "id": "85d20995",
   "metadata": {},
   "outputs": [],
   "source": [
    "all_features=pd.concat([numericals_features, categoricals_features], axis=1) # concat numerical and categorical transformations"
   ]
  },
  {
   "cell_type": "markdown",
   "id": "76195062",
   "metadata": {},
   "source": [
    "### Train Test Split"
   ]
  },
  {
   "cell_type": "code",
   "execution_count": null,
   "id": "3d25bd66",
   "metadata": {},
   "outputs": [],
   "source": [
    "x_train, x_test, y_train, y_test=train_test_split(all_features, y, test_size=.10)"
   ]
  },
  {
   "cell_type": "code",
   "execution_count": null,
   "id": "3540e1cb",
   "metadata": {},
   "outputs": [],
   "source": [
    "x_train"
   ]
  },
  {
   "cell_type": "code",
   "execution_count": null,
   "id": "81857005",
   "metadata": {},
   "outputs": [],
   "source": [
    "# Standardize\n",
    "std_scaler=StandardScaler().fit(x_train) \n",
    "\n",
    "x_train_scaled=std_scaler.transform(x_train)"
   ]
  },
  {
   "cell_type": "code",
   "execution_count": null,
   "id": "282fd864",
   "metadata": {},
   "outputs": [],
   "source": [
    "x_test_scaled=std_scaler.transform(x_test)"
   ]
  },
  {
   "cell_type": "code",
   "execution_count": null,
   "id": "687fecf4",
   "metadata": {},
   "outputs": [],
   "source": [
    "x_train_scaled[0]"
   ]
  },
  {
   "cell_type": "code",
   "execution_count": null,
   "id": "d22b1430",
   "metadata": {},
   "outputs": [],
   "source": [
    "# Modelling without scaling\n",
    "\n",
    "x_train_const= sm.add_constant(x_train) # adding a constant\n",
    "\n",
    "model = sm.OLS(y_train, x_train_const).fit()\n",
    "predictions_train = model.predict(x_train_const) \n",
    "\n",
    "x_test_const = sm.add_constant(x_test) # adding a constant\n",
    "predictions_test = model.predict(x_test_const) \n",
    "print_model = model.summary()\n",
    "print(print_model)"
   ]
  },
  {
   "cell_type": "code",
   "execution_count": null,
   "id": "19c8a145",
   "metadata": {},
   "outputs": [],
   "source": [
    "model.params[list(np.where(model.pvalues < 0.05)[0])].iloc[1:].index.tolist()"
   ]
  },
  {
   "cell_type": "code",
   "execution_count": null,
   "id": "f413f49d",
   "metadata": {},
   "outputs": [],
   "source": [
    "significant_features=all_features[model.params[list(np.where(model.pvalues < 0.05)[0])].iloc[1:].index.tolist()]"
   ]
  },
  {
   "cell_type": "code",
   "execution_count": null,
   "id": "5071043d",
   "metadata": {},
   "outputs": [],
   "source": [
    "#with scaling\n",
    "x_train_scaled = x_train_scaled.reshape(-1,1) \n",
    "x_test_scaled = x_test_scaled.reshape(-1,1)"
   ]
  },
  {
   "cell_type": "code",
   "execution_count": null,
   "id": "b9e12de3",
   "metadata": {},
   "outputs": [],
   "source": [
    "x_train_const_scaled = sm.add_constant(x_train_scaled) # adding a constant\n",
    "\n",
    "model = sm.OLS(y_train, x_train_const_scaled).fit()\n",
    "predictions_train = model.predict(x_train_const_scaled) \n",
    "\n",
    "x_test_const_scaled = sm.add_constant(x_test_scaled) # adding a constant\n",
    "predictions_test = model.predict(x_test_const_scaled) \n",
    "print_model = model.summary()\n",
    "print(print_model)"
   ]
  },
  {
   "cell_type": "code",
   "execution_count": null,
   "id": "1e477930",
   "metadata": {},
   "outputs": [],
   "source": [
    "model=LinearRegression()    # model\n",
    "model.fit(x_train_scaled, y_train)   # model train\n",
    "\n",
    "y_pred=model.predict(x_test_scaled)   # model prediction\n",
    "\n",
    "\n",
    "y_pred_train=model.predict(x_train_scaled)"
   ]
  },
  {
   "cell_type": "code",
   "execution_count": null,
   "id": "b032439d",
   "metadata": {},
   "outputs": [],
   "source": [
    "# Make an scatter plot y_pred vs y\n",
    "# What kind of plot you will get if all the all the predictions are ok?\n",
    "# A stright line\n",
    "\n",
    "fig, ax = plt.subplots(2,3,figsize=(14,12))\n",
    "ax[0,0].plot(y_pred, y_test, 'o')\n",
    "ax[0,0].set_xlabel(\"y_test\")\n",
    "ax[0,0].set_ylabel(\"y_pred\")\n",
    "ax[0,0].set_title(\"Test Set -Predicted vs real\")\n",
    "\n",
    "# Get a histogram of the residuals ie: y - y_pred.  Homoscdasticity\n",
    "# It resembles a normal distribution?\n",
    "ax[0,1].hist(y_test - y_pred)\n",
    "ax[0,1].set_xlabel(\"Test y-y_pred\")\n",
    "ax[0,1].set_title(\"Test Set Residual histogram\")\n",
    "\n",
    "ax[0,2].plot(y_pred,y_test - y_pred,\"o\")\n",
    "ax[0,2].set_xlabel(\"predited\")\n",
    "ax[0,2].set_ylabel(\"residuals\")\n",
    "ax[0,2].set_title(\"Residuals by Predicted -- Test set\")\n",
    "ax[0,2].plot(y_pred,np.zeros(len(y_pred)),linestyle='dashed')\n",
    "\n",
    "\n",
    "ax[1,0].plot(y_pred_train, y_train, 'o')\n",
    "ax[1,0].set_xlabel(\"y_train\")\n",
    "ax[1,0].set_ylabel(\"y_pred_train\")\n",
    "ax[1,0].set_title(\"Train set Predicted vs real\")\n",
    "\n",
    "# Get a histogram of the residuals ie: y - y_pred.  Homoscdasticity\n",
    "# It resembles a normal distribution?\n",
    "ax[1,1].hist(y_train - y_pred_train)\n",
    "ax[1,1].set_xlabel(\"Train y-y_pred\")\n",
    "ax[1,1].set_title(\"Train Residual histogram\")\n",
    "\n",
    "ax[1,2].plot(y_pred_train,y_train - y_pred_train,\"o\")\n",
    "ax[1,2].set_xlabel(\"predited\")\n",
    "ax[1,2].set_ylabel(\"residuals\")\n",
    "ax[1,2].set_title(\"Residuals by Predicted -- Train set\")\n",
    "ax[1,2].plot(y_pred_train,np.zeros(len(y_pred_train)),linestyle='dashed')"
   ]
  },
  {
   "cell_type": "markdown",
   "id": "181fc907",
   "metadata": {},
   "source": [
    "### Model Validation"
   ]
  },
  {
   "cell_type": "code",
   "execution_count": null,
   "id": "ccd9aab2",
   "metadata": {},
   "outputs": [],
   "source": [
    "#MSE\n",
    "train_mse=mse(y_train,y_pred_train)\n",
    "test_mse=mse(y_test,y_pred)\n",
    "\n",
    "print ('train MSE: {} -- test MSE: {}'.format(train_mse, test_mse))"
   ]
  },
  {
   "cell_type": "code",
   "execution_count": null,
   "id": "15aa174b",
   "metadata": {},
   "outputs": [],
   "source": [
    "#RSME\n",
    "print ('train RMSE: {} -- test RMSE: {}'.format(train_mse**.5, test_mse**.5))"
   ]
  },
  {
   "cell_type": "code",
   "execution_count": null,
   "id": "6d28096d",
   "metadata": {},
   "outputs": [],
   "source": [
    "#MAE\n",
    "\n",
    "train_mae=mae(y_train,y_pred_train)\n",
    "test_mae=mae(y_test,y_pred)\n",
    "\n",
    "print ('train MAE: {} -- test MAE: {}'.format(train_mse, test_mse))"
   ]
  },
  {
   "cell_type": "code",
   "execution_count": null,
   "id": "a03db0a1",
   "metadata": {},
   "outputs": [],
   "source": [
    "R2_train=r2_score(y_train,y_pred_train)\n",
    "R2_test=r2_score(y_test,y_pred)\n",
    "\n",
    "print (R2_train)\n",
    "print(R2_test)"
   ]
  },
  {
   "cell_type": "code",
   "execution_count": null,
   "id": "af5e05f0",
   "metadata": {},
   "outputs": [],
   "source": [
    "Adj_R2_train= 1 - (1-R2_train)*(len(y_train)-1)/(len(y_train)-x_train.shape[1]-1)\n",
    "Adj_R2_train"
   ]
  },
  {
   "cell_type": "code",
   "execution_count": null,
   "id": "10ce954c",
   "metadata": {},
   "outputs": [],
   "source": [
    "Adj_R2_test= 1 - (1-R2_test)*(len(y_test)-1)/(len(y_test)-x_test.shape[1]-1)\n",
    "Adj_R2_test"
   ]
  },
  {
   "cell_type": "code",
   "execution_count": null,
   "id": "10c77e31",
   "metadata": {},
   "outputs": [],
   "source": [
    "features_importances = pd.DataFrame(data={\n",
    "    'Attribute': x_train.columns,\n",
    "    'Importance': abs(model.coef_)\n",
    "})\n",
    "features_importances = features_importances.sort_values(by='Importance', ascending=False)"
   ]
  },
  {
   "cell_type": "code",
   "execution_count": null,
   "id": "fb74bc32",
   "metadata": {},
   "outputs": [],
   "source": [
    "features_importances.head(10)\n"
   ]
  },
  {
   "cell_type": "code",
   "execution_count": null,
   "id": "40f1d0d0",
   "metadata": {},
   "outputs": [],
   "source": []
  }
 ],
 "metadata": {
  "kernelspec": {
   "display_name": "Python 3",
   "language": "python",
   "name": "python3"
  },
  "language_info": {
   "codemirror_mode": {
    "name": "ipython",
    "version": 3
   },
   "file_extension": ".py",
   "mimetype": "text/x-python",
   "name": "python",
   "nbconvert_exporter": "python",
   "pygments_lexer": "ipython3",
   "version": "3.8.8"
  }
 },
 "nbformat": 4,
 "nbformat_minor": 5
}
